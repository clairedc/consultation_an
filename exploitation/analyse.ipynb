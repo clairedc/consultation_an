{
 "cells": [
  {
   "cell_type": "code",
   "execution_count": 125,
   "metadata": {
    "collapsed": false
   },
   "outputs": [],
   "source": [
    "%matplotlib inline\n",
    "\n",
    "import cufflinks as cf\n",
    "import pymysql.cursors\n",
    "import json\n",
    "import pandas as pd\n",
    "\n",
    "# Connect to the database\n",
    "connection = pymysql.connect(host='localhost',\n",
    "                             user='root',\n",
    "                             db='consultation_an',\n",
    "                             charset='latin1',\n",
    "                             cursorclass=pymysql.cursors.DictCursor)"
   ]
  },
  {
   "cell_type": "code",
   "execution_count": 126,
   "metadata": {
    "collapsed": false
   },
   "outputs": [],
   "source": [
    "results = []\n",
    "affirmations = [\n",
    "    \"des prises de position contre une mesure existante\",\n",
    "    \"des propositions de nouvelles mesures\",\n",
    "    \"des questions ou demandes d'information\",\n",
    "    \"l'évocation d'expérience(s) personnelle(s)\",\n",
    "    \"une analyse des causes du problème\",\n",
    "    \"une description d'un problème\"]\n",
    "\n",
    "affirmations_short = [\n",
    "    'contre 1 mesure',\n",
    "    'nouvelles mesures',\n",
    "    'questions',\n",
    "    'XP personnelle',\n",
    "    'analyse des causes',\n",
    "    'description pb'\n",
    "]\n",
    "usage = [\"cite\", \"prend en compte\", \"recois\", \"rien\", \"éclaircir\"]\n",
    "usage_label = [\"cite\", \"prend en compte\", \"reçoit\", \"ne fait rien\", \"demande à éclaircir\"]\n",
    "def build_result(row):\n",
    "    data = json.loads(row['data'])\n",
    "    if type(data) != str:\n",
    "        if 'affirmations' in data:\n",
    "            for p, p_short in zip(affirmations, affirmations_short):\n",
    "                if p in data['affirmations']:\n",
    "                    row[p_short] = 1\n",
    "                else:\n",
    "                    row[p_short] = 0\n",
    "                \n",
    "        if 'original' in data:\n",
    "            row['orginal'] = 1 if \"oui\" in data['original'] else 0\n",
    "        \n",
    "        if 'usage' in data :\n",
    "            for p, p_label in zip(usage, usage_label):\n",
    "                if p in data['usage']:\n",
    "                    row[p_label] = 1\n",
    "                else:\n",
    "                    row[p_label] = 0\n",
    "            \n",
    "    row.pop('data')\n",
    "    return row\n",
    "    \n",
    "with connection.cursor() as cursor:\n",
    "    sql = \"SELECT `document_id`, `data` FROM `tasks`\"\n",
    "    cursor.execute(sql)\n",
    "    results = [build_result(row) for row in cursor.fetchall()]"
   ]
  },
  {
   "cell_type": "code",
   "execution_count": 127,
   "metadata": {
    "collapsed": false
   },
   "outputs": [
    {
     "data": {
      "text/html": [
       "<div>\n",
       "<table border=\"1\" class=\"dataframe\">\n",
       "  <thead>\n",
       "    <tr style=\"text-align: right;\">\n",
       "      <th></th>\n",
       "      <th>XP personnelle</th>\n",
       "      <th>analyse des causes</th>\n",
       "      <th>cite</th>\n",
       "      <th>contre 1 mesure</th>\n",
       "      <th>demande à éclaircir</th>\n",
       "      <th>description pb</th>\n",
       "      <th>document_id</th>\n",
       "      <th>ne fait rien</th>\n",
       "      <th>nouvelles mesures</th>\n",
       "      <th>orginal</th>\n",
       "      <th>prend en compte</th>\n",
       "      <th>questions</th>\n",
       "      <th>reçoit</th>\n",
       "    </tr>\n",
       "  </thead>\n",
       "  <tbody>\n",
       "    <tr>\n",
       "      <th>0</th>\n",
       "      <td>0.0</td>\n",
       "      <td>0.0</td>\n",
       "      <td>1.0</td>\n",
       "      <td>0.0</td>\n",
       "      <td>0.0</td>\n",
       "      <td>0.0</td>\n",
       "      <td>339</td>\n",
       "      <td>0.0</td>\n",
       "      <td>1.0</td>\n",
       "      <td>1.0</td>\n",
       "      <td>0.0</td>\n",
       "      <td>0.0</td>\n",
       "      <td>0.0</td>\n",
       "    </tr>\n",
       "    <tr>\n",
       "      <th>1</th>\n",
       "      <td>0.0</td>\n",
       "      <td>0.0</td>\n",
       "      <td>0.0</td>\n",
       "      <td>0.0</td>\n",
       "      <td>0.0</td>\n",
       "      <td>0.0</td>\n",
       "      <td>271</td>\n",
       "      <td>0.0</td>\n",
       "      <td>1.0</td>\n",
       "      <td>1.0</td>\n",
       "      <td>1.0</td>\n",
       "      <td>0.0</td>\n",
       "      <td>0.0</td>\n",
       "    </tr>\n",
       "    <tr>\n",
       "      <th>2</th>\n",
       "      <td>0.0</td>\n",
       "      <td>0.0</td>\n",
       "      <td>1.0</td>\n",
       "      <td>0.0</td>\n",
       "      <td>0.0</td>\n",
       "      <td>1.0</td>\n",
       "      <td>43</td>\n",
       "      <td>0.0</td>\n",
       "      <td>1.0</td>\n",
       "      <td>1.0</td>\n",
       "      <td>0.0</td>\n",
       "      <td>0.0</td>\n",
       "      <td>0.0</td>\n",
       "    </tr>\n",
       "    <tr>\n",
       "      <th>3</th>\n",
       "      <td>0.0</td>\n",
       "      <td>0.0</td>\n",
       "      <td>0.0</td>\n",
       "      <td>0.0</td>\n",
       "      <td>0.0</td>\n",
       "      <td>0.0</td>\n",
       "      <td>74</td>\n",
       "      <td>0.0</td>\n",
       "      <td>1.0</td>\n",
       "      <td>0.0</td>\n",
       "      <td>1.0</td>\n",
       "      <td>0.0</td>\n",
       "      <td>0.0</td>\n",
       "    </tr>\n",
       "    <tr>\n",
       "      <th>4</th>\n",
       "      <td>1.0</td>\n",
       "      <td>1.0</td>\n",
       "      <td>0.0</td>\n",
       "      <td>0.0</td>\n",
       "      <td>0.0</td>\n",
       "      <td>0.0</td>\n",
       "      <td>519</td>\n",
       "      <td>0.0</td>\n",
       "      <td>0.0</td>\n",
       "      <td>0.0</td>\n",
       "      <td>1.0</td>\n",
       "      <td>0.0</td>\n",
       "      <td>0.0</td>\n",
       "    </tr>\n",
       "  </tbody>\n",
       "</table>\n",
       "</div>"
      ],
      "text/plain": [
       "   XP personnelle  analyse des causes  cite  contre 1 mesure  \\\n",
       "0             0.0                 0.0   1.0              0.0   \n",
       "1             0.0                 0.0   0.0              0.0   \n",
       "2             0.0                 0.0   1.0              0.0   \n",
       "3             0.0                 0.0   0.0              0.0   \n",
       "4             1.0                 1.0   0.0              0.0   \n",
       "\n",
       "   demande à éclaircir  description pb  document_id  ne fait rien  \\\n",
       "0                  0.0             0.0          339           0.0   \n",
       "1                  0.0             0.0          271           0.0   \n",
       "2                  0.0             1.0           43           0.0   \n",
       "3                  0.0             0.0           74           0.0   \n",
       "4                  0.0             0.0          519           0.0   \n",
       "\n",
       "   nouvelles mesures  orginal  prend en compte  questions  reçoit  \n",
       "0                1.0      1.0              0.0        0.0     0.0  \n",
       "1                1.0      1.0              1.0        0.0     0.0  \n",
       "2                1.0      1.0              0.0        0.0     0.0  \n",
       "3                1.0      0.0              1.0        0.0     0.0  \n",
       "4                0.0      0.0              1.0        0.0     0.0  "
      ]
     },
     "execution_count": 127,
     "metadata": {},
     "output_type": "execute_result"
    }
   ],
   "source": [
    "df = pd.DataFrame(data=results)\n",
    "df.head()"
   ]
  },
  {
   "cell_type": "markdown",
   "metadata": {},
   "source": [
    "## Éléments des contributions identifiés par les rapporteurs"
   ]
  },
  {
   "cell_type": "code",
   "execution_count": 128,
   "metadata": {
    "collapsed": false
   },
   "outputs": [
    {
     "data": {
      "text/html": [
       "<iframe id=\"igraph\" scrolling=\"no\" style=\"border:none;\" seamless=\"seamless\" src=\"https://plot.ly/~francois.massot/89.embed\" height=\"525px\" width=\"100%\"></iframe>"
      ],
      "text/plain": [
       "<plotly.tools.PlotlyDisplay object>"
      ]
     },
     "execution_count": 128,
     "metadata": {},
     "output_type": "execute_result"
    }
   ],
   "source": [
    "affirmations_total = df[affirmations_short].sum() / df.shape[0] * 100\n",
    "affirmations_total.sort_values(ascending=False, inplace=True)\n",
    "affirmations_total.iplot(\n",
    "    kind='bar',\n",
    "    yTitle='Pourcentage de contributions (%)',\n",
    "    title='Éléments identifiés par les rapporteurs')"
   ]
  },
  {
   "cell_type": "markdown",
   "metadata": {},
   "source": [
    "## Originalité des contributions"
   ]
  },
  {
   "cell_type": "code",
   "execution_count": 122,
   "metadata": {
    "collapsed": false
   },
   "outputs": [
    {
     "data": {
      "text/plain": [
       "orginal    30.661626\n",
       "dtype: float64"
      ]
     },
     "execution_count": 122,
     "metadata": {},
     "output_type": "execute_result"
    }
   ],
   "source": [
    "original = df[['orginal']].sum() / df.shape[0] * 100\n",
    "original"
   ]
  },
  {
   "cell_type": "markdown",
   "metadata": {},
   "source": [
    "## Propos les + intéressants"
   ]
  },
  {
   "cell_type": "code",
   "execution_count": 130,
   "metadata": {
    "collapsed": false
   },
   "outputs": [
    {
     "data": {
      "text/html": [
       "<iframe id=\"igraph\" scrolling=\"no\" style=\"border:none;\" seamless=\"seamless\" src=\"https://plot.ly/~francois.massot/93.embed\" height=\"525px\" width=\"100%\"></iframe>"
      ],
      "text/plain": [
       "<plotly.tools.PlotlyDisplay object>"
      ]
     },
     "execution_count": 130,
     "metadata": {},
     "output_type": "execute_result"
    }
   ],
   "source": [
    "usage_total = df[usage_label].sum() / df.shape[0] * 100\n",
    "usage_total.sort_values(inplace=True, ascending=False)\n",
    "usage_total.iplot(\n",
    "    kind='bar',\n",
    "    yTitle='Pourcentage de contributions (%)',\n",
    "    title='Les actions à mener sur les contributions selon les rapporteurs')"
   ]
  },
  {
   "cell_type": "markdown",
   "metadata": {},
   "source": [
    "# Validation des contributions"
   ]
  },
  {
   "cell_type": "code",
   "execution_count": 151,
   "metadata": {
    "collapsed": false
   },
   "outputs": [
    {
     "data": {
      "text/html": [
       "<iframe id=\"igraph\" scrolling=\"no\" style=\"border:none;\" seamless=\"seamless\" src=\"https://plot.ly/~francois.massot/95.embed\" height=\"525px\" width=\"100%\"></iframe>"
      ],
      "text/plain": [
       "<plotly.tools.PlotlyDisplay object>"
      ]
     },
     "execution_count": 151,
     "metadata": {},
     "output_type": "execute_result"
    }
   ],
   "source": [
    "gp_by_document = df.groupby('document_id')\n",
    "count_by_document = gp_by_document.document_id.count()\n",
    "count_by_document.sort_values(ascending=False, inplace=True)\n",
    "count_by_document.iplot(\n",
    "    kind='hist',\n",
    "    histnorm='percent',\n",
    "    yTitle='Pourcentage des contributions (%)',\n",
    "    title='Nombre de fois qu\\'une contribution a été analysée')"
   ]
  },
  {
   "cell_type": "code",
   "execution_count": 166,
   "metadata": {
    "collapsed": false
   },
   "outputs": [],
   "source": [
    "def validation_method_1(data):\n",
    "    # méthode en production : éléments + originalité\n",
    "    return data[affirmations_short + ['orginal']].duplicated().sum() > 2\n",
    "\n",
    "def validation_method_2(data):\n",
    "    # seulement sur les éléments\n",
    "    return data[affirmations_short].duplicated().sum() > 2\n",
    "\n",
    "def validation_method_3(data):\n",
    "    # ok si au moins un élement est retrouvé 3x + originalité\n",
    "    for p in affirmations_short:\n",
    "        if data[[p, 'orginal']].duplicated().sum() > 2:\n",
    "            return True\n",
    "        \n",
    "    return False\n",
    "\n",
    "score = {'method_1': 0, 'method_2': 0, 'method_3': 0}\n",
    "document_count = len(df.document_id.unique())\n",
    "for _, group in gp_by_document:\n",
    "    if validation_method_1(group):\n",
    "        score['method_1'] += 1 / document_count\n",
    "    if validation_method_2(group):\n",
    "        score['method_2'] += 1 / document_count\n",
    "    if validation_method_3(group):\n",
    "        score['method_3'] += 1 / document_count"
   ]
  },
  {
   "cell_type": "code",
   "execution_count": 167,
   "metadata": {
    "collapsed": false
   },
   "outputs": [
    {
     "data": {
      "text/html": [
       "<iframe id=\"igraph\" scrolling=\"no\" style=\"border:none;\" seamless=\"seamless\" src=\"https://plot.ly/~francois.massot/95.embed\" height=\"525px\" width=\"100%\"></iframe>"
      ],
      "text/plain": [
       "<plotly.tools.PlotlyDisplay object>"
      ]
     },
     "execution_count": 167,
     "metadata": {},
     "output_type": "execute_result"
    }
   ],
   "source": [
    "pd.DataFrame(data=[score]).iplot(\n",
    "    kind='bar',\n",
    "    yTitle='Pourcentage des contributions (%)',\n",
    "    title='Nombre de fois qu\\'une contribution a été analysée')"
   ]
  },
  {
   "cell_type": "code",
   "execution_count": null,
   "metadata": {
    "collapsed": true
   },
   "outputs": [],
   "source": []
  }
 ],
 "metadata": {
  "kernelspec": {
   "display_name": "Python 3",
   "language": "python",
   "name": "python3"
  },
  "language_info": {
   "codemirror_mode": {
    "name": "ipython",
    "version": 3
   },
   "file_extension": ".py",
   "mimetype": "text/x-python",
   "name": "python",
   "nbconvert_exporter": "python",
   "pygments_lexer": "ipython3",
   "version": "3.4.1"
  }
 },
 "nbformat": 4,
 "nbformat_minor": 1
}
