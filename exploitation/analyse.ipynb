{
 "metadata": {
  "kernelspec": {
   "display_name": "Python 3",
   "language": "python",
   "name": "python3"
  },
  "language_info": {
   "codemirror_mode": {
    "name": "ipython",
    "version": 3
   },
   "file_extension": ".py",
   "mimetype": "text/x-python",
   "name": "python",
   "nbconvert_exporter": "python",
   "pygments_lexer": "ipython3",
   "version": "3.4.1"
  },
  "name": "",
  "signature": "sha256:3d09b1e66cb35daf845f0487b94497183f49d1b9a361f80a5aceeaac7618546b"
 },
 "nbformat": 3,
 "nbformat_minor": 0,
 "worksheets": [
  {
   "cells": [
    {
     "cell_type": "code",
     "collapsed": false,
     "input": [
      "%matplotlib inline\n",
      "\n",
      "import pymysql.cursors\n",
      "import json\n",
      "import pandas as pd\n",
      "\n",
      "# Connect to the database\n",
      "connection = pymysql.connect(host='localhost',\n",
      "                             user='root',\n",
      "                             db='consultation_an',\n",
      "                             charset='latin1',\n",
      "                             cursorclass=pymysql.cursors.DictCursor)"
     ],
     "language": "python",
     "metadata": {},
     "outputs": [],
     "prompt_number": 1
    },
    {
     "cell_type": "code",
     "collapsed": false,
     "input": [
      "results = []\n",
      "affirmations = [\n",
      "    \"des prises de position contre une mesure existante\",\n",
      "    \"des propositions de nouvelles mesures\",\n",
      "    \"des questions ou demandes d'information\",\n",
      "    \"l'\u00e9vocation d'exp\u00e9rience(s) personnelle(s)\",\n",
      "    \"une analyse des causes du probl\u00e8me\",\n",
      "    \"une description d'un probl\u00e8me\"]\n",
      "\n",
      "affirmations_short = [\n",
      "    'contre 1 mesure',\n",
      "    'nouvelles mesures',\n",
      "    'questions',\n",
      "    'XP personnelle',\n",
      "    'analyse des causes',\n",
      "    'description pb'\n",
      "]\n",
      "usage = [\"cite\", \"prend en compte\", \"recois\", \"rien\", \"\u00e9claircir\"]\n",
      "usage_label = [\"cite\", \"prend en compte\", \"re\u00e7oit\", \"ne fait rien\", \"demande \u00e0 \u00e9claircir\"]\n",
      "def build_result(row):\n",
      "    data = json.loads(row['data'])\n",
      "    if type(data) != str:\n",
      "        if 'affirmations' in data:\n",
      "            for p, p_short in zip(affirmations, affirmations_short):\n",
      "                if p in data['affirmations']:\n",
      "                    row[p_short] = 1\n",
      "                else:\n",
      "                    row[p_short] = 0\n",
      "                \n",
      "        if 'original' in data:\n",
      "            row['original'] = 1 if \"oui\" in data['original'] else 0\n",
      "        \n",
      "        if 'usage' in data :\n",
      "            for p, p_label in zip(usage, usage_label):\n",
      "                if p in data['usage']:\n",
      "                    row[p_label] = 1\n",
      "                else:\n",
      "                    row[p_label] = 0\n",
      "            \n",
      "    row.pop('data')\n",
      "    return row\n",
      "    \n",
      "with connection.cursor() as cursor:\n",
      "    sql = \"SELECT `document_id`, `data`, documents.source, documents.theme, documents.question, documents.text FROM `tasks` INNER JOIN `documents` ON documents.id = tasks.document_id\"\n",
      "    cursor.execute(sql)\n",
      "    results = [build_result(row) for row in cursor.fetchall()]"
     ],
     "language": "python",
     "metadata": {},
     "outputs": [],
     "prompt_number": 2
    },
    {
     "cell_type": "code",
     "collapsed": false,
     "input": [
      "df = pd.DataFrame(data=results)\n",
      "df.to_csv('crowdsourcing_consultation_an.csv', float_format='%.0f')\n",
      "df.head()"
     ],
     "language": "python",
     "metadata": {},
     "outputs": [
      {
       "html": [
        "<div style=\"max-width:1500px;overflow:auto;\">\n",
        "<table border=\"1\" class=\"dataframe\">\n",
        "  <thead>\n",
        "    <tr style=\"text-align: right;\">\n",
        "      <th></th>\n",
        "      <th>XP personnelle</th>\n",
        "      <th>analyse des causes</th>\n",
        "      <th>cite</th>\n",
        "      <th>contre 1 mesure</th>\n",
        "      <th>demande \u00e0 \u00e9claircir</th>\n",
        "      <th>description pb</th>\n",
        "      <th>document_id</th>\n",
        "      <th>ne fait rien</th>\n",
        "      <th>nouvelles mesures</th>\n",
        "      <th>original</th>\n",
        "      <th>prend en compte</th>\n",
        "      <th>question</th>\n",
        "      <th>questions</th>\n",
        "      <th>re\u00e7oit</th>\n",
        "      <th>source</th>\n",
        "      <th>text</th>\n",
        "      <th>theme</th>\n",
        "    </tr>\n",
        "  </thead>\n",
        "  <tbody>\n",
        "    <tr>\n",
        "      <th>0</th>\n",
        "      <td>0.0</td>\n",
        "      <td>0.0</td>\n",
        "      <td>1.0</td>\n",
        "      <td>0.0</td>\n",
        "      <td>0.0</td>\n",
        "      <td>0.0</td>\n",
        "      <td>339</td>\n",
        "      <td>0.0</td>\n",
        "      <td>1.0</td>\n",
        "      <td>1.0</td>\n",
        "      <td>0.0</td>\n",
        "      <td>Si vous avez d\u0092autres informations ou exp\u00e9rien...</td>\n",
        "      <td>0.0</td>\n",
        "      <td>0.0</td>\n",
        "      <td>lpyWm20=/31</td>\n",
        "      <td>Sans rapport avec les pensions impay\u00e9es mais e...</td>\n",
        "      <td>4</td>\n",
        "    </tr>\n",
        "    <tr>\n",
        "      <th>1</th>\n",
        "      <td>0.0</td>\n",
        "      <td>0.0</td>\n",
        "      <td>0.0</td>\n",
        "      <td>0.0</td>\n",
        "      <td>0.0</td>\n",
        "      <td>0.0</td>\n",
        "      <td>271</td>\n",
        "      <td>0.0</td>\n",
        "      <td>1.0</td>\n",
        "      <td>1.0</td>\n",
        "      <td>1.0</td>\n",
        "      <td>Si vous avez d\u0092autres informations ou exp\u00e9rien...</td>\n",
        "      <td>0.0</td>\n",
        "      <td>0.0</td>\n",
        "      <td>lpyclm0=/26</td>\n",
        "      <td>L'\u00e9laboration d'un guide \u00e0 destination des par...</td>\n",
        "      <td>3</td>\n",
        "    </tr>\n",
        "    <tr>\n",
        "      <th>2</th>\n",
        "      <td>0.0</td>\n",
        "      <td>0.0</td>\n",
        "      <td>1.0</td>\n",
        "      <td>0.0</td>\n",
        "      <td>0.0</td>\n",
        "      <td>1.0</td>\n",
        "      <td>43</td>\n",
        "      <td>0.0</td>\n",
        "      <td>1.0</td>\n",
        "      <td>1.0</td>\n",
        "      <td>0.0</td>\n",
        "      <td>Si vous avez d\u0092autres informations ou exp\u00e9rien...</td>\n",
        "      <td>0.0</td>\n",
        "      <td>0.0</td>\n",
        "      <td>lpyWlWc=/16</td>\n",
        "      <td>-faire conna\u00eetre les dispositifs de signalemen...</td>\n",
        "      <td>2</td>\n",
        "    </tr>\n",
        "    <tr>\n",
        "      <th>3</th>\n",
        "      <td>0.0</td>\n",
        "      <td>0.0</td>\n",
        "      <td>0.0</td>\n",
        "      <td>0.0</td>\n",
        "      <td>0.0</td>\n",
        "      <td>0.0</td>\n",
        "      <td>74</td>\n",
        "      <td>0.0</td>\n",
        "      <td>1.0</td>\n",
        "      <td>0.0</td>\n",
        "      <td>1.0</td>\n",
        "      <td>Si vous avez d\u0092autres informations ou exp\u00e9rien...</td>\n",
        "      <td>0.0</td>\n",
        "      <td>0.0</td>\n",
        "      <td>lpyYl2Y=/16</td>\n",
        "      <td>Programmer des dessins anim\u00e9s pour le public e...</td>\n",
        "      <td>2</td>\n",
        "    </tr>\n",
        "    <tr>\n",
        "      <th>4</th>\n",
        "      <td>1.0</td>\n",
        "      <td>1.0</td>\n",
        "      <td>0.0</td>\n",
        "      <td>0.0</td>\n",
        "      <td>0.0</td>\n",
        "      <td>0.0</td>\n",
        "      <td>519</td>\n",
        "      <td>0.0</td>\n",
        "      <td>0.0</td>\n",
        "      <td>0.0</td>\n",
        "      <td>1.0</td>\n",
        "      <td>Si vous avez d\u0092autres informations ou exp\u00e9rien...</td>\n",
        "      <td>0.0</td>\n",
        "      <td>0.0</td>\n",
        "      <td>lp2VlGY=/40</td>\n",
        "      <td>Simplement que l'on \u00e9coute les femmes lorsqu'e...</td>\n",
        "      <td>5</td>\n",
        "    </tr>\n",
        "  </tbody>\n",
        "</table>\n",
        "</div>"
       ],
       "metadata": {},
       "output_type": "pyout",
       "prompt_number": 3,
       "text": [
        "   XP personnelle  analyse des causes  cite  contre 1 mesure  \\\n",
        "0             0.0                 0.0   1.0              0.0   \n",
        "1             0.0                 0.0   0.0              0.0   \n",
        "2             0.0                 0.0   1.0              0.0   \n",
        "3             0.0                 0.0   0.0              0.0   \n",
        "4             1.0                 1.0   0.0              0.0   \n",
        "\n",
        "   demande \u00e0 \u00e9claircir  description pb  document_id  ne fait rien  \\\n",
        "0                  0.0             0.0          339           0.0   \n",
        "1                  0.0             0.0          271           0.0   \n",
        "2                  0.0             1.0           43           0.0   \n",
        "3                  0.0             0.0           74           0.0   \n",
        "4                  0.0             0.0          519           0.0   \n",
        "\n",
        "   nouvelles mesures  original  prend en compte  \\\n",
        "0                1.0       1.0              0.0   \n",
        "1                1.0       1.0              1.0   \n",
        "2                1.0       1.0              0.0   \n",
        "3                1.0       0.0              1.0   \n",
        "4                0.0       0.0              1.0   \n",
        "\n",
        "                                            question  questions  re\u00e7oit  \\\n",
        "0  Si vous avez d\u0092autres informations ou exp\u00e9rien...        0.0     0.0   \n",
        "1  Si vous avez d\u0092autres informations ou exp\u00e9rien...        0.0     0.0   \n",
        "2  Si vous avez d\u0092autres informations ou exp\u00e9rien...        0.0     0.0   \n",
        "3  Si vous avez d\u0092autres informations ou exp\u00e9rien...        0.0     0.0   \n",
        "4  Si vous avez d\u0092autres informations ou exp\u00e9rien...        0.0     0.0   \n",
        "\n",
        "        source                                               text  theme  \n",
        "0  lpyWm20=/31  Sans rapport avec les pensions impay\u00e9es mais e...      4  \n",
        "1  lpyclm0=/26  L'\u00e9laboration d'un guide \u00e0 destination des par...      3  \n",
        "2  lpyWlWc=/16  -faire conna\u00eetre les dispositifs de signalemen...      2  \n",
        "3  lpyYl2Y=/16  Programmer des dessins anim\u00e9s pour le public e...      2  \n",
        "4  lp2VlGY=/40  Simplement que l'on \u00e9coute les femmes lorsqu'e...      5  "
       ]
      }
     ],
     "prompt_number": 3
    },
    {
     "cell_type": "heading",
     "level": 2,
     "metadata": {},
     "source": [
      "\u00c9l\u00e9ments des contributions identifi\u00e9s par les rapporteurs"
     ]
    },
    {
     "cell_type": "code",
     "collapsed": false,
     "input": [
      "affirmations_total = df[affirmations_short].sum() / df.shape[0]\n",
      "affirmations_total.sort_values(ascending=False, inplace=True)\n",
      "plot = affirmations_total.plot(\n",
      "    kind='bar',\n",
      "    title='\u00c9l\u00e9ments identifi\u00e9s par les rapporteurs')\n",
      "plot.set_ylabel('Pourcentage de contributions')"
     ],
     "language": "python",
     "metadata": {},
     "outputs": [
      {
       "metadata": {},
       "output_type": "pyout",
       "prompt_number": 4,
       "text": [
        "<matplotlib.text.Text at 0x7fb93bb867b8>"
       ]
      },
      {
       "metadata": {},
       "output_type": "display_data",
       "png": "[encoded data removed]",
       "text": [
        "<matplotlib.figure.Figure at 0x7fb93c0c7d68>"
       ]
      }
     ],
     "prompt_number": 4
    },
    {
     "cell_type": "heading",
     "level": 2,
     "metadata": {},
     "source": [
      "Originalit\u00e9 des contributions"
     ]
    },
    {
     "cell_type": "code",
     "collapsed": false,
     "input": [
      "original = df[['original']].sum() / df.shape[0]\n",
      "original"
     ],
     "language": "python",
     "metadata": {},
     "outputs": [
      {
       "metadata": {},
       "output_type": "pyout",
       "prompt_number": 5,
       "text": [
        "original    0.301468\n",
        "dtype: float64"
       ]
      }
     ],
     "prompt_number": 5
    },
    {
     "cell_type": "heading",
     "level": 2,
     "metadata": {},
     "source": [
      "Propos les + int\u00e9ressants"
     ]
    },
    {
     "cell_type": "code",
     "collapsed": false,
     "input": [
      "usage_total = df[usage_label].sum() / df.shape[0]\n",
      "usage_total.sort_values(inplace=True, ascending=False)\n",
      "plot = usage_total.plot(\n",
      "    kind='bar',\n",
      "    title='Les actions \u00e0 mener sur les contributions selon les rapporteurs')\n",
      "plot.set_ylabel('Pourcentage de contributions')"
     ],
     "language": "python",
     "metadata": {},
     "outputs": [
      {
       "metadata": {},
       "output_type": "pyout",
       "prompt_number": 6,
       "text": [
        "<matplotlib.text.Text at 0x7fb93bac89b0>"
       ]
      },
      {
       "metadata": {},
       "output_type": "display_data",
       "png": "[encoded data removed]",
       "text": [
        "<matplotlib.figure.Figure at 0x7fb93bc3b6d8>"
       ]
      }
     ],
     "prompt_number": 6
    },
    {
     "cell_type": "heading",
     "level": 1,
     "metadata": {},
     "source": [
      "Validation des contributions : quelle m\u00e9thode ?"
     ]
    },
    {
     "cell_type": "code",
     "collapsed": false,
     "input": [
      "gp_by_document = df.groupby('document_id')\n",
      "count_by_document = gp_by_document.document_id.count()\n",
      "count_by_document.sort_values(ascending=False, inplace=True)\n",
      "plot = count_by_document.plot(\n",
      "    kind='hist',\n",
      "    normed=True,\n",
      "    title='Nombre de fois qu\\'une contribution a \u00e9t\u00e9 analys\u00e9e')\n",
      "plot.set_ylabel('Pourcentage des contributions')"
     ],
     "language": "python",
     "metadata": {},
     "outputs": [
      {
       "metadata": {},
       "output_type": "pyout",
       "prompt_number": 7,
       "text": [
        "<matplotlib.text.Text at 0x7fb93bb3a390>"
       ]
      },
      {
       "metadata": {},
       "output_type": "display_data",
       "png": "[encoded data removed]",
       "text": [
        "<matplotlib.figure.Figure at 0x7fb93baa74a8>"
       ]
      }
     ],
     "prompt_number": 7
    },
    {
     "cell_type": "code",
     "collapsed": false,
     "input": [
      "def validation_method_1(data):\n",
      "    # m\u00e9thode en production : \u00e9l\u00e9ments + originalit\u00e9\n",
      "    return data[affirmations_short + ['original']].duplicated().sum() > 2\n",
      "\n",
      "def validation_method_2(data):\n",
      "    # seulement sur les \u00e9l\u00e9ments\n",
      "    return data[affirmations_short].duplicated().sum() > 2\n",
      "\n",
      "def validation_method_3(data):\n",
      "    # ok si au moins un \u00e9lement est retrouv\u00e9 3x + originalit\u00e9\n",
      "    for p in affirmations_short:\n",
      "        if data[[p, 'original']].duplicated().sum() > 2:\n",
      "            return True\n",
      "        \n",
      "    return False\n",
      "\n",
      "score = {'method_1': 0, 'method_2': 0, 'method_3': 0}\n",
      "document_count = len(df.document_id.unique())\n",
      "for _, group in gp_by_document:\n",
      "    if validation_method_1(group):\n",
      "        score['method_1'] += 1 / document_count\n",
      "    if validation_method_2(group):\n",
      "        score['method_2'] += 1 / document_count\n",
      "    if validation_method_3(group):\n",
      "        score['method_3'] += 1 / document_count"
     ],
     "language": "python",
     "metadata": {},
     "outputs": [],
     "prompt_number": 8
    },
    {
     "cell_type": "code",
     "collapsed": false,
     "input": [
      "plot = pd.DataFrame(data=[score]).plot(\n",
      "    kind='bar',\n",
      "    title='Pourcentage de contributions valid\u00e9es suivant les 3 m\u00e9thodes')\n",
      "plot.set_ylabel('Pourcentage des contributions valid\u00e9es')"
     ],
     "language": "python",
     "metadata": {},
     "outputs": [
      {
       "metadata": {},
       "output_type": "pyout",
       "prompt_number": 9,
       "text": [
        "<matplotlib.text.Text at 0x7fb93b9c1208>"
       ]
      },
      {
       "metadata": {},
       "output_type": "display_data",
       "png": "[encoded data removed]",
       "text": [
        "<matplotlib.figure.Figure at 0x7fb93bbc76d8>"
       ]
      }
     ],
     "prompt_number": 9
    },
    {
     "cell_type": "code",
     "collapsed": false,
     "input": [
      "score"
     ],
     "language": "python",
     "metadata": {},
     "outputs": [
      {
       "metadata": {},
       "output_type": "pyout",
       "prompt_number": 10,
       "text": [
        "{'method_2': 0.18479685452162486,\n",
        " 'method_1': 0.06553079947575366,\n",
        " 'method_3': 0.3709043250327671}"
       ]
      }
     ],
     "prompt_number": 10
    },
    {
     "cell_type": "code",
     "collapsed": true,
     "input": [
      "score = {}\n",
      "for a in affirmations_short:\n",
      "    for b in affirmations_short:\n",
      "        if a == b:\n",
      "            continue\n",
      "        if b+\" -> \"+a in score.keys():\n",
      "            continue\n",
      "        score[a+\" -> \"+b] = 0\n",
      "        print(a+\" -> \"+b)\n",
      "        for _, group in gp_by_document:\n",
      "            group[a] = ((group[b] + group[a]) >= 1) * 1\n",
      "            group[b] = ((group[b] + group[a]) >= 1) * 1\n",
      "            if validation_method_2(group):\n",
      "                score[a+\" -> \"+b] += 1 / document_count\n",
      "        print(score[a+\" -> \"+b])"
     ],
     "language": "python",
     "metadata": {},
     "outputs": [
      {
       "output_type": "stream",
       "stream": "stdout",
       "text": [
        "contre 1 mesure -> nouvelles mesures\n",
        "0.20314547837483582"
       ]
      },
      {
       "output_type": "stream",
       "stream": "stdout",
       "text": [
        "\n",
        "contre 1 mesure -> questions\n",
        "0.18479685452162486"
       ]
      },
      {
       "output_type": "stream",
       "stream": "stdout",
       "text": [
        "\n",
        "contre 1 mesure -> XP personnelle\n",
        "0.19397116644823034"
       ]
      },
      {
       "output_type": "stream",
       "stream": "stdout",
       "text": [
        "\n",
        "contre 1 mesure -> analyse des causes\n",
        "0.19266055045871527"
       ]
      },
      {
       "output_type": "stream",
       "stream": "stdout",
       "text": [
        "\n",
        "contre 1 mesure -> description pb\n",
        "0.19266055045871527"
       ]
      },
      {
       "output_type": "stream",
       "stream": "stdout",
       "text": [
        "\n",
        "nouvelles mesures -> questions\n",
        "0.187418086500655"
       ]
      },
      {
       "output_type": "stream",
       "stream": "stdout",
       "text": [
        "\n",
        "nouvelles mesures -> XP personnelle\n",
        "0.20314547837483582"
       ]
      },
      {
       "output_type": "stream",
       "stream": "stdout",
       "text": [
        "\n",
        "nouvelles mesures -> analyse des causes\n",
        "0.20576671035386596"
       ]
      },
      {
       "output_type": "stream",
       "stream": "stdout",
       "text": [
        "\n",
        "nouvelles mesures -> description pb\n",
        "0.2372214941022276"
       ]
      },
      {
       "output_type": "stream",
       "stream": "stdout",
       "text": [
        "\n",
        "questions -> XP personnelle\n",
        "0.18479685452162486"
       ]
      },
      {
       "output_type": "stream",
       "stream": "stdout",
       "text": [
        "\n",
        "questions -> analyse des causes\n",
        "0.18479685452162486"
       ]
      },
      {
       "output_type": "stream",
       "stream": "stdout",
       "text": [
        "\n",
        "questions -> description pb\n",
        "0.18872870249017007"
       ]
      },
      {
       "output_type": "stream",
       "stream": "stdout",
       "text": [
        "\n",
        "XP personnelle -> analyse des causes\n",
        "0.19659239842726048"
       ]
      },
      {
       "output_type": "stream",
       "stream": "stdout",
       "text": [
        "\n",
        "XP personnelle -> description pb\n",
        "0.2201834862385317"
       ]
      },
      {
       "output_type": "stream",
       "stream": "stdout",
       "text": [
        "\n",
        "analyse des causes -> description pb\n",
        "0.20969855832241116"
       ]
      },
      {
       "output_type": "stream",
       "stream": "stdout",
       "text": [
        "\n"
       ]
      }
     ],
     "prompt_number": 13
    },
    {
     "cell_type": "code",
     "collapsed": true,
     "input": [
      "pd.DataFrame(data=[score]).T.sort_values(by=0)"
     ],
     "language": "python",
     "metadata": {},
     "outputs": [
      {
       "html": [
        "<div style=\"max-width:1500px;overflow:auto;\">\n",
        "<table border=\"1\" class=\"dataframe\">\n",
        "  <thead>\n",
        "    <tr style=\"text-align: right;\">\n",
        "      <th></th>\n",
        "      <th>0</th>\n",
        "    </tr>\n",
        "  </thead>\n",
        "  <tbody>\n",
        "    <tr>\n",
        "      <th>contre 1 mesure -&gt; questions</th>\n",
        "      <td>0.184797</td>\n",
        "    </tr>\n",
        "    <tr>\n",
        "      <th>questions -&gt; XP personnelle</th>\n",
        "      <td>0.184797</td>\n",
        "    </tr>\n",
        "    <tr>\n",
        "      <th>questions -&gt; analyse des causes</th>\n",
        "      <td>0.184797</td>\n",
        "    </tr>\n",
        "    <tr>\n",
        "      <th>nouvelles mesures -&gt; questions</th>\n",
        "      <td>0.187418</td>\n",
        "    </tr>\n",
        "    <tr>\n",
        "      <th>questions -&gt; description pb</th>\n",
        "      <td>0.188729</td>\n",
        "    </tr>\n",
        "    <tr>\n",
        "      <th>contre 1 mesure -&gt; analyse des causes</th>\n",
        "      <td>0.192661</td>\n",
        "    </tr>\n",
        "    <tr>\n",
        "      <th>contre 1 mesure -&gt; description pb</th>\n",
        "      <td>0.192661</td>\n",
        "    </tr>\n",
        "    <tr>\n",
        "      <th>contre 1 mesure -&gt; XP personnelle</th>\n",
        "      <td>0.193971</td>\n",
        "    </tr>\n",
        "    <tr>\n",
        "      <th>XP personnelle -&gt; analyse des causes</th>\n",
        "      <td>0.196592</td>\n",
        "    </tr>\n",
        "    <tr>\n",
        "      <th>contre 1 mesure -&gt; nouvelles mesures</th>\n",
        "      <td>0.203145</td>\n",
        "    </tr>\n",
        "    <tr>\n",
        "      <th>nouvelles mesures -&gt; XP personnelle</th>\n",
        "      <td>0.203145</td>\n",
        "    </tr>\n",
        "    <tr>\n",
        "      <th>nouvelles mesures -&gt; analyse des causes</th>\n",
        "      <td>0.205767</td>\n",
        "    </tr>\n",
        "    <tr>\n",
        "      <th>analyse des causes -&gt; description pb</th>\n",
        "      <td>0.209699</td>\n",
        "    </tr>\n",
        "    <tr>\n",
        "      <th>XP personnelle -&gt; description pb</th>\n",
        "      <td>0.220183</td>\n",
        "    </tr>\n",
        "    <tr>\n",
        "      <th>nouvelles mesures -&gt; description pb</th>\n",
        "      <td>0.237221</td>\n",
        "    </tr>\n",
        "  </tbody>\n",
        "</table>\n",
        "</div>"
       ],
       "metadata": {},
       "output_type": "pyout",
       "prompt_number": 23,
       "text": [
        "                                                0\n",
        "contre 1 mesure -> questions             0.184797\n",
        "questions -> XP personnelle              0.184797\n",
        "questions -> analyse des causes          0.184797\n",
        "nouvelles mesures -> questions           0.187418\n",
        "questions -> description pb              0.188729\n",
        "contre 1 mesure -> analyse des causes    0.192661\n",
        "contre 1 mesure -> description pb        0.192661\n",
        "contre 1 mesure -> XP personnelle        0.193971\n",
        "XP personnelle -> analyse des causes     0.196592\n",
        "contre 1 mesure -> nouvelles mesures     0.203145\n",
        "nouvelles mesures -> XP personnelle      0.203145\n",
        "nouvelles mesures -> analyse des causes  0.205767\n",
        "analyse des causes -> description pb     0.209699\n",
        "XP personnelle -> description pb         0.220183\n",
        "nouvelles mesures -> description pb      0.237221"
       ]
      }
     ],
     "prompt_number": 23
    },
    {
     "cell_type": "code",
     "collapsed": true,
     "input": [],
     "language": "python",
     "metadata": {},
     "outputs": [],
     "prompt_number": null
    }
   ],
   "metadata": {}
  }
 ]
}
